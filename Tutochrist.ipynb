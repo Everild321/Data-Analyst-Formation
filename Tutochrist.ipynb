{
  "nbformat": 4,
  "nbformat_minor": 0,
  "metadata": {
    "colab": {
      "provenance": [],
      "authorship_tag": "ABX9TyOEiM7gFiN7ard7BF4S4w6l",
      "include_colab_link": true
    },
    "kernelspec": {
      "name": "python3",
      "display_name": "Python 3"
    },
    "language_info": {
      "name": "python"
    }
  },
  "cells": [
    {
      "cell_type": "markdown",
      "metadata": {
        "id": "view-in-github",
        "colab_type": "text"
      },
      "source": [
        "<a href=\"https://colab.research.google.com/github/Everild321/git-mon-cv/blob/master/Tutochrist.ipynb\" target=\"_parent\"><img src=\"https://colab.research.google.com/assets/colab-badge.svg\" alt=\"Open In Colab\"/></a>"
      ]
    },
    {
      "cell_type": "code",
      "execution_count": 17,
      "metadata": {
        "colab": {
          "base_uri": "https://localhost:8080/",
          "height": 36
        },
        "id": "x-Xz3fD810ZV",
        "outputId": "32210784-3211-4781-a656-85e88ad48c49"
      },
      "outputs": [
        {
          "output_type": "execute_result",
          "data": {
            "text/plain": [
              "'Je suis Thomas Shelby et je suis un acteur âgé de 35ans'"
            ],
            "application/vnd.google.colaboratory.intrinsic+json": {
              "type": "string"
            }
          },
          "metadata": {},
          "execution_count": 17
        }
      ],
      "source": [
        "#les Strings et les f-strings\n",
        "\n",
        "nom=\"Thomas Shelby\"\n",
        "age=35\n",
        "metier=\"acteur\"\n",
        "# type(nom)\n",
        "# nom[1]\n",
        "# nom.title()\n",
        "# nom.upper()\n",
        "# nom.count(\"h\")\n",
        "# nom.find(\"z\")\n",
        "f\"Je suis {nom} et je suis un {metier} âgé de {age}ans\"\n",
        "# \"Je suis %s et je suis un %s agé de %s ans\"% (nom, metier, age)\n",
        "\n"
      ]
    },
    {
      "cell_type": "code",
      "source": [
        "#les conditions\n",
        "# nom=input(\"Entrer votre nom d'utilisateur: \")\n",
        "# password=input(\"Entrer votre mot de passe: \")\n",
        "# print(\"Bonjour \",nom, \"votre mot de passe n'est pas sécurisé, le voici: \",password)\n",
        "note = input('Entrer votre note: ')\n",
        "\n",
        "try:\n",
        "    note = int(note)\n",
        "    if 5 <= note < 10:\n",
        "        print('Médiocre')\n",
        "    elif 10 <= note < 12:\n",
        "        print(\"Passable\")\n",
        "    elif 12 <= note < 15:\n",
        "        print(\"Bien\")\n",
        "    elif 15 <= note <= 20:\n",
        "        print(\"Très Bien\")\n",
        "    elif note > 20:\n",
        "        print(\"Mais gars tu mens\")\n",
        "    else:\n",
        "        print(\"Tu es maudit ou quoi\")\n",
        "except ValueError:\n",
        "    print(\"Veuillez vérifier le format de la note entrée\")\n",
        "\n",
        "\n"
      ],
      "metadata": {
        "colab": {
          "base_uri": "https://localhost:8080/"
        },
        "id": "tOpi2fbf9D1D",
        "outputId": "f6f04019-13e5-4d54-ee73-6ae6efcf0777"
      },
      "execution_count": 37,
      "outputs": [
        {
          "output_type": "stream",
          "name": "stdout",
          "text": [
            "Entrer votre note: 12\n",
            "Bien\n"
          ]
        }
      ]
    },
    {
      "cell_type": "code",
      "source": [
        "from logging import NullHandler\n",
        "#Les boucles For et While\n",
        "\n",
        "tabBoucle=[\"one\",\"two\",\"three\",\"for\",\"five\"]\n",
        "# type(tabBoucle)\n",
        "#La boucle for\n",
        "# for tab in tabBoucle:\n",
        "#   if len(tab)>3:\n",
        "#     print(f\"{tab} a une longueur supérieure à 5\")\n",
        "#   else:\n",
        "#     print('Petite longueur')\n",
        "\n",
        "#La boucle while\n",
        "nmys=5\n",
        "nombre=0\n",
        "while nombre != nmys:\n",
        "  nombre=int(input('Veuillez entrer le nombre mystère: '))\n",
        "  if nombre <nmys:\n",
        "    print('Trop petit')\n",
        "  elif nombre > nmys:\n",
        "    print(\"Trop grand\")\n",
        "  elif nombre == nmys:\n",
        "    print(\"Super, tu as trouvé\")\n",
        "\n",
        "\n",
        "#Test ordinaire\n",
        "# prenoms=[\"Bob\", \"Tom\", \"John\", \"Carl\", \"Joe\", \"Ben\"]\n",
        "# for pre in prenoms:\n",
        "#   print(pre)\n",
        "#   if pre==\"John\":\n",
        "#     break\n",
        "#       print(f\"Je m'arrête {pre}\")\n",
        "\n"
      ],
      "metadata": {
        "colab": {
          "base_uri": "https://localhost:8080/"
        },
        "id": "4GJ-OuRKbIuQ",
        "outputId": "dfd39880-61fe-4ceb-9802-e514a8c3ec5c"
      },
      "execution_count": 1,
      "outputs": [
        {
          "output_type": "stream",
          "name": "stdout",
          "text": [
            "Veuillez entrer le nombre mystère: 3\n",
            "Trop petit\n",
            "Veuillez entrer le nombre mystère: 6\n",
            "Trop grand\n",
            "Veuillez entrer le nombre mystère: 8\n",
            "Trop grand\n",
            "Veuillez entrer le nombre mystère: 4\n",
            "Trop petit\n",
            "Veuillez entrer le nombre mystère: 5\n",
            "Super, tu as trouvé\n"
          ]
        }
      ]
    },
    {
      "cell_type": "code",
      "source": [
        "#Les fonction set les modules en python\n",
        "\n",
        "#Les fonctions\n",
        "# \"Hello world\".replace('Hello', \"Hi\").replace(\"Hi\", \"Yo\")\n",
        "# \"Hello world\".replace('l', \"Hi\")\n",
        "\n",
        "# Pour avoir la documentation d'une fonction\n",
        "# ?str.replace\n",
        "\n",
        "def pair(nbr):\n",
        "  # nbr=int(input('Veuillez entrer le nombre dont la parité sera vérifié: '))\n",
        "  if nbr%2==0:\n",
        "    print(\"le nombre est pair\")\n",
        "  else:\n",
        "    print('le nombre est impair')\n",
        "# pair(3)\n",
        "\n",
        "def equal(mot1, mot2):\n",
        "  if mot1.upper() == mot2.upper():\n",
        "    # print('les deux mots sont égaux')\n",
        "    return True\n",
        "  else:\n",
        "    return False\n",
        "equal(\"sordic\", \"SORDIC\")\n",
        "\n"
      ],
      "metadata": {
        "colab": {
          "base_uri": "https://localhost:8080/"
        },
        "id": "BhycFyEIf_w5",
        "outputId": "e89d2274-7418-4b94-a820-78c4e9887acd"
      },
      "execution_count": 24,
      "outputs": [
        {
          "output_type": "stream",
          "name": "stdout",
          "text": [
            "les deux mots sont égaux\n"
          ]
        },
        {
          "output_type": "execute_result",
          "data": {
            "text/plain": [
              "True"
            ]
          },
          "metadata": {},
          "execution_count": 24
        }
      ]
    },
    {
      "cell_type": "code",
      "source": [
        "#Les modules\n",
        "%%writefile module.py\n",
        "def pair(nbr):\n",
        "  if nbr%2==0:\n",
        "    print(\"le nombre est pair\")\n",
        "  else:\n",
        "    print('le nombre est impair')\n",
        "\n",
        "def equal(mot1, mot2):\n",
        "  if mot1.upper() == mot2.upper():\n",
        "    return True\n",
        "  else:\n",
        "    return False"
      ],
      "metadata": {
        "colab": {
          "base_uri": "https://localhost:8080/"
        },
        "id": "YNgVH5sBxYVw",
        "outputId": "12cd64eb-2c35-4130-b383-f858b14c8de6"
      },
      "execution_count": 25,
      "outputs": [
        {
          "output_type": "stream",
          "name": "stdout",
          "text": [
            "Writing module.py\n"
          ]
        }
      ]
    },
    {
      "cell_type": "code",
      "source": [
        "#Les Fichiers\n",
        "#Lire dans un fichier\n",
        "fichier=\"doc.txt\"\n",
        "with open(fichier, 'r') as file:\n",
        "  line=file.readlines()\n"
      ],
      "metadata": {
        "id": "LjGXu_8U09ub"
      },
      "execution_count": 35,
      "outputs": []
    },
    {
      "cell_type": "code",
      "source": [
        "  # type(line)\n",
        "  for index, lin in enumerate(line):\n",
        "    line[index]= lin.replace(\"\\n\", \"\")\n",
        "  print(line)\n",
        "\n",
        "  def salut():\n",
        "    print(f\"Bonjour M.{line[0]} {line[1]}, je suis enchanté de savoir que venez du {line[2]} et de surcroît vous êtes {line[4]}\")\n",
        "  salut()"
      ],
      "metadata": {
        "id": "QAXgCDxu2iRH"
      },
      "execution_count": null,
      "outputs": []
    },
    {
      "cell_type": "code",
      "source": [
        "#Ecrire dans un fichier\n",
        "\n",
        "fichier=f\"{line[1]}.txt\"\n",
        "with open(fichier, 'w') as file:\n",
        "    file.write(f\"Bonjour M.{line[0]} {line[1]}, je suis enchanté de savoir que venez du {line[2]} et de surcroît vous êtes {line[4]}\")"
      ],
      "metadata": {
        "id": "7hih90n_5OuD"
      },
      "execution_count": 47,
      "outputs": []
    },
    {
      "cell_type": "code",
      "source": [
        "#POO dans Python\n",
        "import math\n",
        "class Point:\n",
        "    def __init__(self, abscisse, ordonne):\n",
        "        self.x = abscisse\n",
        "        self.y = ordonne\n",
        "\n",
        "    def distance(self, autre_point):\n",
        "        squarred_d = (autre_point.x - self.x)**2 + (autre_point.y - self.y)**2\n",
        "        d = math.sqrt(squarred_d)\n",
        "        return d\n",
        "\n",
        "    def __repr__(self):\n",
        "        return f\"Ce point a pour abcisse {self.x} et ordonné {self.y}\"\n",
        "\n",
        "    def origine(self):\n",
        "        self.x = 0\n",
        "        self.y = 0\n",
        "\n",
        "    def projection_x(self):\n",
        "        self.y = 0\n",
        "\n",
        "    def projection_y(self):\n",
        "        self.x = 0\n",
        "a = Point(2, 3)\n",
        "b = Point(1, 5)\n",
        "a.distance(b)"
      ],
      "metadata": {
        "colab": {
          "base_uri": "https://localhost:8080/"
        },
        "id": "udP7NhZ9639a",
        "outputId": "5b1af020-c8e8-414d-a1cc-336ea84df120"
      },
      "execution_count": 49,
      "outputs": [
        {
          "output_type": "execute_result",
          "data": {
            "text/plain": [
              "2.23606797749979"
            ]
          },
          "metadata": {},
          "execution_count": 49
        }
      ]
    }
  ]
}