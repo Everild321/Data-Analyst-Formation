{
  "nbformat": 4,
  "nbformat_minor": 0,
  "metadata": {
    "colab": {
      "provenance": [],
      "authorship_tag": "ABX9TyPWa6JNBZav/tmMQZQJfY4Z",
      "include_colab_link": true
    },
    "kernelspec": {
      "name": "python3",
      "display_name": "Python 3"
    },
    "language_info": {
      "name": "python"
    }
  },
  "cells": [
    {
      "cell_type": "markdown",
      "metadata": {
        "id": "view-in-github",
        "colab_type": "text"
      },
      "source": [
        "<a href=\"https://colab.research.google.com/github/Everild321/git-mon-cv/blob/master/Exercicechrist.ipynb\" target=\"_parent\"><img src=\"https://colab.research.google.com/assets/colab-badge.svg\" alt=\"Open In Colab\"/></a>"
      ]
    },
    {
      "cell_type": "markdown",
      "source": [
        "Exercice traitées concernant la formatio de Data Analyst"
      ],
      "metadata": {
        "id": "saTK6AnPB0rm"
      }
    },
    {
      "cell_type": "code",
      "source": [
        "#Exercice 1\n",
        "from random import randint\n",
        "\n",
        "def devinette():\n",
        "  mys =randint(0,100)\n",
        "  nombre=-1\n",
        "  while nombre !=mys:\n",
        "    nombre =int(input(\"Devine le nombre mystère: \"))\n",
        "    if nombre <mys:\n",
        "      print('Trop petit')\n",
        "    elif nombre > mys:\n",
        "      print('Trop grand')\n",
        "    elif nombre == mys:\n",
        "      print('Exact')\n",
        "\n",
        "devinette()\n",
        ""
      ],
      "metadata": {
        "id": "DcVGfAAjCDt9"
      },
      "execution_count": null,
      "outputs": []
    },
    {
      "cell_type": "code",
      "source": [
        "#Exercice 2\n",
        "\n",
        "from random import randint\n",
        "\n",
        "def devinette():\n",
        "  mys =randint(0,100)\n",
        "  nombre=-1\n",
        "  for i in range(3):\n",
        "     nombre =int(input(\"Devine le nombre mystère: \"))\n",
        "     if nombre <mys:\n",
        "       print('Trop petit')\n",
        "     elif nombre > mys:\n",
        "       print('Trop grand')\n",
        "     elif nombre == mys:\n",
        "       print('Exact')\n",
        "  if nombre != mys:\n",
        "     print(\"Tu as épuisé toutes les trois tentavives\")\n",
        "\n",
        "devinette()"
      ],
      "metadata": {
        "id": "CVRv5ZCsGCKG"
      },
      "execution_count": null,
      "outputs": []
    },
    {
      "cell_type": "code",
      "source": [
        "#Exercice 3\n",
        "maliste = [2, 3, 4, 5, 6, 7, 8, 9]\n",
        "def somme(liste):\n",
        "    res = [liste[0]]\n",
        "    for i in range(1, len(liste)):\n",
        "        res.append(res[-1] + liste[i])\n",
        "        valSom=res[len(res)-1]\n",
        "    return valSom\n",
        "\n",
        "somme(maliste)\n"
      ],
      "metadata": {
        "id": "7ZN8lLtyJ4yd"
      },
      "execution_count": null,
      "outputs": []
    },
    {
      "cell_type": "code",
      "source": [
        "#Exercice 4\n",
        "def genererMail():\n",
        "  print('Générateur de Mail')\n",
        "  valnom=input('Veuillez entrer votre nom: ')\n",
        "  nom=valnom.lower()\n",
        "  valprenom= input('Veuillez entrer votre prenom: ')\n",
        "  prenom=valprenom.lower()\n",
        "  mail=prenom+\"_\"+nom+\"@pythonboss.com\"\n",
        "\n",
        "  print(f\"Votre email est: {mail}\")\n",
        "\n",
        "genererMail()"
      ],
      "metadata": {
        "id": "rWUejKnOY4kG"
      },
      "execution_count": null,
      "outputs": []
    },
    {
      "cell_type": "code",
      "source": [
        "# Exercice 5\n",
        "def ordonne_str(machaine):\n",
        "  #Utilisation de séparateur.join(liste) pour jumeler les éléments de la liste créés suite à l'utilisation de la methode sorted()\n",
        "    ordonne = \"\".join(sorted(machaine))\n",
        "    # ordonne =sorted(machaine)\n",
        "    return ordonne\n",
        "mot = \"personne\"\n",
        "ordonne_str(mot)"
      ],
      "metadata": {
        "id": "sx0O5s_Ga4j2"
      },
      "execution_count": null,
      "outputs": []
    },
    {
      "cell_type": "code",
      "source": [
        "#Exercice 6\n",
        "def sans_voyelle(chaine):\n",
        "    chaine=chaine.lower()\n",
        "    voyelles=[\"a\",\"e\",\"u\",\"i\",\"o\",\"y\"]\n",
        "    for voyelle in voyelles:\n",
        "        while voyelle in chaine:\n",
        "            chaine = chaine.replace(voyelle, \"\")\n",
        "    return chaine\n",
        "\n",
        "mot = \"PapA\"\n",
        "sans_voyelle(mot)\n"
      ],
      "metadata": {
        "id": "E-f4doATHH7_"
      },
      "execution_count": null,
      "outputs": []
    },
    {
      "cell_type": "code",
      "source": [
        "#Exercice 7\n"
      ],
      "metadata": {
        "id": "sdaroUc6QCbu"
      },
      "execution_count": null,
      "outputs": []
    }
  ]
}