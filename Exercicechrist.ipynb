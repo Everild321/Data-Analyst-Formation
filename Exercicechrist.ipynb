{
  "nbformat": 4,
  "nbformat_minor": 0,
  "metadata": {
    "colab": {
      "provenance": [],
      "toc_visible": true,
      "authorship_tag": "ABX9TyOJcuzMOAgWtTAwpCRcHEak",
      "include_colab_link": true
    },
    "kernelspec": {
      "name": "python3",
      "display_name": "Python 3"
    },
    "language_info": {
      "name": "python"
    }
  },
  "cells": [
    {
      "cell_type": "markdown",
      "metadata": {
        "id": "view-in-github",
        "colab_type": "text"
      },
      "source": [
        "<a href=\"https://colab.research.google.com/github/Everild321/git-mon-cv/blob/master/Exercicechrist.ipynb\" target=\"_parent\"><img src=\"https://colab.research.google.com/assets/colab-badge.svg\" alt=\"Open In Colab\"/></a>"
      ]
    },
    {
      "cell_type": "markdown",
      "source": [
        "Exercice traitées concernant la formatio de Data Analyst"
      ],
      "metadata": {
        "id": "saTK6AnPB0rm"
      }
    },
    {
      "cell_type": "code",
      "source": [
        "#Exercice 1\n",
        "from random import randint\n",
        "\n",
        "def devinette():\n",
        "  mys =randint(0,100)\n",
        "  nombre=-1\n",
        "  while nombre !=mys:\n",
        "    nombre =int(input(\"Devine le nombre mystère: \"))\n",
        "    if nombre <mys:\n",
        "      print('Trop petit')\n",
        "    elif nombre > mys:\n",
        "      print('Trop grand')\n",
        "    elif nombre == mys:\n",
        "      print('Exact')\n",
        "\n",
        "devinette()\n",
        ""
      ],
      "metadata": {
        "colab": {
          "base_uri": "https://localhost:8080/"
        },
        "id": "DcVGfAAjCDt9",
        "outputId": "4c67446b-942d-4cd2-a2bc-3ce663b74f90"
      },
      "execution_count": 3,
      "outputs": [
        {
          "output_type": "stream",
          "name": "stdout",
          "text": [
            "Devine le nombre mystère: 5\n",
            "Trop petit\n",
            "Devine le nombre mystère: 50\n",
            "Trop grand\n",
            "Devine le nombre mystère: 40\n",
            "Trop petit\n",
            "Devine le nombre mystère: 45\n",
            "Trop grand\n",
            "Devine le nombre mystère: 42\n",
            "Trop grand\n",
            "Devine le nombre mystère: 41\n",
            "Exact\n"
          ]
        }
      ]
    },
    {
      "cell_type": "code",
      "source": [
        "#Exercice 2"
      ],
      "metadata": {
        "id": "CVRv5ZCsGCKG"
      },
      "execution_count": null,
      "outputs": []
    }
  ]
}