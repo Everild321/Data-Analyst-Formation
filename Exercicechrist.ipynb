{
  "nbformat": 4,
  "nbformat_minor": 0,
  "metadata": {
    "colab": {
      "provenance": [],
      "authorship_tag": "ABX9TyNLccWyV+pxK31oRAzk4UMx",
      "include_colab_link": true
    },
    "kernelspec": {
      "name": "python3",
      "display_name": "Python 3"
    },
    "language_info": {
      "name": "python"
    }
  },
  "cells": [
    {
      "cell_type": "markdown",
      "metadata": {
        "id": "view-in-github",
        "colab_type": "text"
      },
      "source": [
        "<a href=\"https://colab.research.google.com/github/Everild321/git-mon-cv/blob/master/Exercicechrist.ipynb\" target=\"_parent\"><img src=\"https://colab.research.google.com/assets/colab-badge.svg\" alt=\"Open In Colab\"/></a>"
      ]
    },
    {
      "cell_type": "markdown",
      "source": [
        "Exercice traitées concernant la formatio de Data Analyst"
      ],
      "metadata": {
        "id": "saTK6AnPB0rm"
      }
    },
    {
      "cell_type": "code",
      "source": [
        "#Exercice 1\n",
        "from random import randint\n",
        "\n",
        "def devinette():\n",
        "  mys =randint(0,100)\n",
        "  nombre=-1\n",
        "  while nombre !=mys:\n",
        "    nombre =int(input(\"Devine le nombre mystère: \"))\n",
        "    if nombre <mys:\n",
        "      print('Trop petit')\n",
        "    elif nombre > mys:\n",
        "      print('Trop grand')\n",
        "    elif nombre == mys:\n",
        "      print('Exact')\n",
        "\n",
        "devinette()\n",
        ""
      ],
      "metadata": {
        "id": "DcVGfAAjCDt9"
      },
      "execution_count": null,
      "outputs": []
    },
    {
      "cell_type": "code",
      "source": [
        "#Exercice 2\n",
        "\n",
        "from random import randint\n",
        "\n",
        "def devinette():\n",
        "  mys =randint(0,100)\n",
        "  nombre=-1\n",
        "  for i in range(3):\n",
        "     nombre =int(input(\"Devine le nombre mystère: \"))\n",
        "     if nombre <mys:\n",
        "       print('Trop petit')\n",
        "     elif nombre > mys:\n",
        "       print('Trop grand')\n",
        "     elif nombre == mys:\n",
        "       print('Exact')\n",
        "  if nombre != mys:\n",
        "     print(\"Tu as épuisé toutes les trois tentavives\")\n",
        "\n",
        "devinette()"
      ],
      "metadata": {
        "id": "CVRv5ZCsGCKG"
      },
      "execution_count": null,
      "outputs": []
    },
    {
      "cell_type": "code",
      "source": [
        "#Exercice 3\n",
        "maliste = [2, 3, 4, 5, 6, 7, 8, 9]\n",
        "def somme(liste):\n",
        "    res = [liste[0]]\n",
        "    for i in range(1, len(liste)):\n",
        "        res.append(res[-1] + liste[i])\n",
        "        valSom=res[len(res)-1]\n",
        "    return valSom\n",
        "\n",
        "somme(maliste)\n"
      ],
      "metadata": {
        "id": "7ZN8lLtyJ4yd"
      },
      "execution_count": null,
      "outputs": []
    },
    {
      "cell_type": "code",
      "source": [
        "#Exercice 4\n",
        "def genererMail():\n",
        "  print('Générateur de Mail')\n",
        "  valnom=input('Veuillez entrer votre nom: ')\n",
        "  nom=valnom.lower()\n",
        "  valprenom= input('Veuillez entrer votre prenom: ')\n",
        "  prenom=valprenom.lower()\n",
        "  mail=prenom+\"_\"+nom+\"@pythonboss.com\"\n",
        "\n",
        "  print(f\"Votre email est: {mail}\")\n",
        "\n",
        "genererMail()"
      ],
      "metadata": {
        "id": "rWUejKnOY4kG"
      },
      "execution_count": null,
      "outputs": []
    },
    {
      "cell_type": "code",
      "source": [
        "# Exercice 5\n",
        "def ordonne_str(machaine):\n",
        "  #Utilisation de séparateur.join(liste) pour jumeler les éléments de la liste créés suite à l'utilisation de la methode sorted()\n",
        "    ordonne = \"\".join(sorted(machaine))\n",
        "    return ordonne\n",
        "mot = \"personne\"\n",
        "ordonne_str(mot)"
      ],
      "metadata": {
        "id": "sx0O5s_Ga4j2"
      },
      "execution_count": null,
      "outputs": []
    },
    {
      "cell_type": "code",
      "source": [
        "#Exercice 6\n",
        "def sans_voyelle(chaine):\n",
        "    chaine=chaine.lower()\n",
        "    voyelles=[\"a\",\"e\",\"u\",\"i\",\"o\",\"y\"]\n",
        "    for voyelle in voyelles:\n",
        "        while voyelle in chaine:\n",
        "            chaine = chaine.replace(voyelle, \"\")\n",
        "    return chaine\n",
        "\n",
        "mot = \"PapA\"\n",
        "sans_voyelle(mot)\n"
      ],
      "metadata": {
        "id": "E-f4doATHH7_"
      },
      "execution_count": null,
      "outputs": []
    },
    {
      "cell_type": "code",
      "source": [
        "#Exercice 7\n",
        "def sans_voyelle_sauf_a(express,mavoyelle):\n",
        "    express=express.lower()\n",
        "    voyelles=[\"a\",\"e\",\"u\",\"i\",\"o\",\"y\"]\n",
        "    voyelles.remove(mavoyelle)\n",
        "    for voyelle in voyelles:\n",
        "        while voyelle in express:\n",
        "            express = express.replace(voyelle, \"\")\n",
        "    return express\n",
        "\n",
        "phrase = \"Papa va au boulot aujourd'hui\"\n",
        "mavoy=\"i\"\n",
        "sans_voyelle_sauf_a(phrase,mavoy)"
      ],
      "metadata": {
        "id": "sdaroUc6QCbu"
      },
      "execution_count": null,
      "outputs": []
    },
    {
      "cell_type": "code",
      "source": [
        "#Exercice 8\n",
        "#Note\n",
        "#La fonction isinstance() vérifie si l’objet (premier argument) est une instance ou une sous-classe de la classe (deuxième argument).\n",
        "def start_and_end(variable):\n",
        "  if len(variable) < 2:\n",
        "          return \"Votre variable doit contenir au moins deux éléments.\"\n",
        "  else:\n",
        "      premier = variable[0]\n",
        "      dernier = variable[-1]\n",
        "\n",
        "      if isinstance(variable, list):\n",
        "          return [premier, dernier]\n",
        "      elif isinstance(variable, tuple):\n",
        "          return (premier, dernier)\n",
        "      elif isinstance(variable, str):\n",
        "          return premier + dernier\n",
        "      else:\n",
        "          return \"Type de séquence non pris en charge.\"\n",
        "val=\"papa\"\n",
        "start_and_end(val)"
      ],
      "metadata": {
        "id": "P1IY4GxbTzCB"
      },
      "execution_count": null,
      "outputs": []
    },
    {
      "cell_type": "code",
      "source": [
        "#Exercice 9\n"
      ],
      "metadata": {
        "id": "qGDYaJasZiJX"
      },
      "execution_count": null,
      "outputs": []
    }
  ]
}